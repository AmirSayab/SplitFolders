{
 "cells": [
  {
   "cell_type": "code",
   "execution_count": 4,
   "id": "5f632099-ffea-409e-a36f-c0f8b38359f2",
   "metadata": {},
   "outputs": [],
   "source": [
    "import splitfolders"
   ]
  },
  {
   "cell_type": "code",
   "execution_count": 6,
   "id": "54f64f24-d847-491c-87c0-ab5404766e38",
   "metadata": {},
   "outputs": [],
   "source": [
    "input_folder = \"potatoSet/\""
   ]
  },
  {
   "cell_type": "code",
   "execution_count": 7,
   "id": "7b4257d4-abdf-4fd9-9c91-1166fc6c2906",
   "metadata": {},
   "outputs": [],
   "source": [
    "splitfolders.ratio(input_folder,output = \"potatosetNew\",seed=42,ratio=(.8,.1,.1),group_prefix=None)"
   ]
  },
  {
   "cell_type": "code",
   "execution_count": null,
   "id": "a7f0d1fd-5980-41e7-a20c-89683e1628ca",
   "metadata": {},
   "outputs": [],
   "source": [
    "# splitfolders.Fixed(input_folder,output = \"potatosetNew\",seed=42,fixed=(80,20),oversample=False ,group_prefix=None)"
   ]
  }
 ],
 "metadata": {
  "kernelspec": {
   "display_name": "Python 3 (ipykernel)",
   "language": "python",
   "name": "python3"
  },
  "language_info": {
   "codemirror_mode": {
    "name": "ipython",
    "version": 3
   },
   "file_extension": ".py",
   "mimetype": "text/x-python",
   "name": "python",
   "nbconvert_exporter": "python",
   "pygments_lexer": "ipython3",
   "version": "3.11.7"
  }
 },
 "nbformat": 4,
 "nbformat_minor": 5
}
